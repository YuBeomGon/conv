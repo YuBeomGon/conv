{
 "cells": [
  {
   "cell_type": "code",
   "execution_count": 1,
   "id": "f80b42c4-725b-42ea-9c8f-bcef07279585",
   "metadata": {},
   "outputs": [],
   "source": [
    "# https://github.com/pytorch/pytorch/issues/47990"
   ]
  },
  {
   "cell_type": "code",
   "execution_count": 56,
   "id": "2325e3d3-02ce-4a20-9201-e533e5ee7ff9",
   "metadata": {},
   "outputs": [],
   "source": [
    "import torch\n",
    "import torch.nn as nn\n",
    "import copy"
   ]
  },
  {
   "cell_type": "code",
   "execution_count": 57,
   "id": "8e39961b-4b2e-47a4-a0b9-cb997e03baf0",
   "metadata": {},
   "outputs": [
    {
     "data": {
      "text/plain": [
       "torch.Size([2, 3, 256, 256])"
      ]
     },
     "execution_count": 57,
     "metadata": {},
     "output_type": "execute_result"
    }
   ],
   "source": [
    "x = torch.randn(2,3,256,256)\n",
    "# x = torch.ones(2,3,256,256)\n",
    "x.shape"
   ]
  },
  {
   "cell_type": "code",
   "execution_count": 58,
   "id": "f0016747-0531-49c9-9da8-568fe73f00e2",
   "metadata": {},
   "outputs": [
    {
     "name": "stdout",
     "output_type": "stream",
     "text": [
      "torch.Size([2, 64, 256, 256])\n"
     ]
    }
   ],
   "source": [
    "# using convoluiton\n",
    "conv1 = nn.Conv2d(3,64,(3,3),padding=1)\n",
    "conv_out = conv1(x)\n",
    "print(conv_out.shape)\n",
    "# conv_out"
   ]
  },
  {
   "cell_type": "code",
   "execution_count": 96,
   "id": "1fc18207-6080-4d2e-b444-2c778500b5dc",
   "metadata": {},
   "outputs": [],
   "source": [
    "class CustomConv(nn.Module):\n",
    "\n",
    "    def __init__(self, in_channel, out_channel, kernel_size=3, stride=1, padding=1, bias=True):\n",
    "        super(CustomConv, self).__init__()\n",
    "        self.kernel_size = kernel_size\n",
    "        self.in_channel = in_channel\n",
    "        self.out_channel = out_channel\n",
    "        self.stride = stride\n",
    "        self.padding = padding\n",
    "        self.weight = nn.Parameter(torch.ones(self.out_channel, self.in_channel, self.kernel_size, self.kernel_size))\n",
    "        self.dweight = nn.Parameter(torch.ones(1, self.in_channel, self.kernel_size, self.kernel_size))\n",
    "        self.bias = nn.Parameter(torch.ones(self.out_channel))\n",
    "        self.isbias = bias\n",
    "        \n",
    "        self.Unfold = nn.Unfold(kernel_size=(self.kernel_size, self.kernel_size), \n",
    "                                stride=self.stride, padding=self.padding) \n",
    "        \n",
    "    def forward(self, x):\n",
    "        \n",
    "        batch_size, c, h, w = x.shape\n",
    "        x = self.Unfold(x)\n",
    "        x1 = self.dweight.view(1, -1) @ torch.sigmoid(x)\n",
    "        x = self.weight.view(self.out_channel, -1) @ (x * x1)\n",
    "        if self.isbias :\n",
    "            x = x + self.bias[None,:,None]        \n",
    "        x = x.view(batch_size, self.out_channel, h, w)        \n",
    "\n",
    "        # batch_size, c, h, w = x.shape\n",
    "        # x = self.Unfold(x)\n",
    "        # x = self.weight.view(self.out_channel, -1) @ x\n",
    "        # if self.isbias :\n",
    "        #     x = x + self.bias[None,:,None]\n",
    "        # x = x.view(batch_size, self.out_channel, h, w)\n",
    "\n",
    "        return x"
   ]
  },
  {
   "cell_type": "code",
   "execution_count": 97,
   "id": "3d890eea-fb48-4e58-b3ce-88ce298a5fdc",
   "metadata": {},
   "outputs": [],
   "source": [
    "cus_conv = CustomConv(3, 64)\n",
    "cus_conv.weight = copy.deepcopy(conv1.weight)\n",
    "cus_conv.bias = copy.deepcopy(conv1.bias)"
   ]
  },
  {
   "cell_type": "code",
   "execution_count": 98,
   "id": "56736d47-a94c-41db-845c-b9a92b929596",
   "metadata": {},
   "outputs": [
    {
     "name": "stdout",
     "output_type": "stream",
     "text": [
      "torch.Size([2, 1, 65536])\n"
     ]
    },
    {
     "data": {
      "text/plain": [
       "tensor(8388520)"
      ]
     },
     "execution_count": 98,
     "metadata": {},
     "output_type": "execute_result"
    }
   ],
   "source": [
    "cus_conv_out = cus_conv(x)\n",
    "# print(cus_conv_out.shape)\n",
    "(torch.abs(cus_conv_out - conv_out) > 0.0001).sum()"
   ]
  },
  {
   "cell_type": "code",
   "execution_count": null,
   "id": "1a6462d0-942c-44b3-a94e-eb431f1f9188",
   "metadata": {},
   "outputs": [],
   "source": []
  },
  {
   "cell_type": "code",
   "execution_count": null,
   "id": "71f4dc5c-9e8f-400d-a729-315445e8849e",
   "metadata": {},
   "outputs": [],
   "source": []
  },
  {
   "cell_type": "code",
   "execution_count": null,
   "id": "8378b551-522e-4533-a207-1b530d0ca4d7",
   "metadata": {},
   "outputs": [],
   "source": []
  },
  {
   "cell_type": "code",
   "execution_count": 9,
   "id": "77418f82-209d-4583-96ba-214a7d11a679",
   "metadata": {},
   "outputs": [
    {
     "data": {
      "text/plain": [
       "torch.Size([2, 3, 4, 4])"
      ]
     },
     "execution_count": 9,
     "metadata": {},
     "output_type": "execute_result"
    }
   ],
   "source": [
    "x = torch.ones(2,3,4,4)\n",
    "x.shape"
   ]
  },
  {
   "cell_type": "code",
   "execution_count": 10,
   "id": "903adf9f-735d-4dc1-a42a-c97fb2daede7",
   "metadata": {},
   "outputs": [],
   "source": [
    "\n",
    "conv1 = nn.Conv2d(3,4,(3,3),padding=1)\n",
    "conv1.weight = nn.Parameter(torch.ones(conv1.weight.shape).float())\n",
    "conv1.bias = nn.Parameter(torch.ones(conv1.bias.shape).float())"
   ]
  },
  {
   "cell_type": "code",
   "execution_count": 11,
   "id": "f5fddf52-05a5-45f4-8783-fbcb97de1c56",
   "metadata": {},
   "outputs": [
    {
     "name": "stdout",
     "output_type": "stream",
     "text": [
      "torch.Size([2, 4, 4, 4])\n"
     ]
    }
   ],
   "source": [
    "conv_out = conv1(x)\n",
    "print(conv_out.shape)\n",
    "# conv_out[0,:,0,0]"
   ]
  },
  {
   "cell_type": "code",
   "execution_count": 12,
   "id": "00cd108b-840a-49e6-9917-880cf8e152a8",
   "metadata": {},
   "outputs": [
    {
     "data": {
      "text/plain": [
       "tensor([[[[13., 19., 19., 13.],\n",
       "          [19., 28., 28., 19.],\n",
       "          [19., 28., 28., 19.],\n",
       "          [13., 19., 19., 13.]],\n",
       "\n",
       "         [[13., 19., 19., 13.],\n",
       "          [19., 28., 28., 19.],\n",
       "          [19., 28., 28., 19.],\n",
       "          [13., 19., 19., 13.]],\n",
       "\n",
       "         [[13., 19., 19., 13.],\n",
       "          [19., 28., 28., 19.],\n",
       "          [19., 28., 28., 19.],\n",
       "          [13., 19., 19., 13.]],\n",
       "\n",
       "         [[13., 19., 19., 13.],\n",
       "          [19., 28., 28., 19.],\n",
       "          [19., 28., 28., 19.],\n",
       "          [13., 19., 19., 13.]]],\n",
       "\n",
       "\n",
       "        [[[13., 19., 19., 13.],\n",
       "          [19., 28., 28., 19.],\n",
       "          [19., 28., 28., 19.],\n",
       "          [13., 19., 19., 13.]],\n",
       "\n",
       "         [[13., 19., 19., 13.],\n",
       "          [19., 28., 28., 19.],\n",
       "          [19., 28., 28., 19.],\n",
       "          [13., 19., 19., 13.]],\n",
       "\n",
       "         [[13., 19., 19., 13.],\n",
       "          [19., 28., 28., 19.],\n",
       "          [19., 28., 28., 19.],\n",
       "          [13., 19., 19., 13.]],\n",
       "\n",
       "         [[13., 19., 19., 13.],\n",
       "          [19., 28., 28., 19.],\n",
       "          [19., 28., 28., 19.],\n",
       "          [13., 19., 19., 13.]]]], grad_fn=<MkldnnConvolutionBackward0>)"
      ]
     },
     "execution_count": 12,
     "metadata": {},
     "output_type": "execute_result"
    }
   ],
   "source": [
    "conv_out"
   ]
  },
  {
   "cell_type": "code",
   "execution_count": 13,
   "id": "3d8ce86e-ae40-46f1-93df-84e707a5d4aa",
   "metadata": {},
   "outputs": [],
   "source": [
    "cus_conv = CustomConv(3, 4)\n",
    "cus_conv.weight = conv1.weight\n",
    "cus_conv.bais = conv1.bias"
   ]
  },
  {
   "cell_type": "code",
   "execution_count": 14,
   "id": "03491c4d-3077-445f-b3f2-81ab446c015a",
   "metadata": {},
   "outputs": [
    {
     "data": {
      "text/plain": [
       "tensor([13., 13., 13., 13.], grad_fn=<SelectBackward0>)"
      ]
     },
     "execution_count": 14,
     "metadata": {},
     "output_type": "execute_result"
    }
   ],
   "source": [
    "cus_conv_out = cus_conv(x)\n",
    "# print(cus_conv_out.shape)\n",
    "cus_conv_out[0,:,0,0]"
   ]
  },
  {
   "cell_type": "code",
   "execution_count": 15,
   "id": "07afe8be-4b73-4508-8068-6e229c339fe7",
   "metadata": {},
   "outputs": [
    {
     "data": {
      "text/plain": [
       "tensor([[[[13., 19., 19., 13.],\n",
       "          [19., 28., 28., 19.],\n",
       "          [19., 28., 28., 19.],\n",
       "          [13., 19., 19., 13.]],\n",
       "\n",
       "         [[13., 19., 19., 13.],\n",
       "          [19., 28., 28., 19.],\n",
       "          [19., 28., 28., 19.],\n",
       "          [13., 19., 19., 13.]],\n",
       "\n",
       "         [[13., 19., 19., 13.],\n",
       "          [19., 28., 28., 19.],\n",
       "          [19., 28., 28., 19.],\n",
       "          [13., 19., 19., 13.]],\n",
       "\n",
       "         [[13., 19., 19., 13.],\n",
       "          [19., 28., 28., 19.],\n",
       "          [19., 28., 28., 19.],\n",
       "          [13., 19., 19., 13.]]],\n",
       "\n",
       "\n",
       "        [[[13., 19., 19., 13.],\n",
       "          [19., 28., 28., 19.],\n",
       "          [19., 28., 28., 19.],\n",
       "          [13., 19., 19., 13.]],\n",
       "\n",
       "         [[13., 19., 19., 13.],\n",
       "          [19., 28., 28., 19.],\n",
       "          [19., 28., 28., 19.],\n",
       "          [13., 19., 19., 13.]],\n",
       "\n",
       "         [[13., 19., 19., 13.],\n",
       "          [19., 28., 28., 19.],\n",
       "          [19., 28., 28., 19.],\n",
       "          [13., 19., 19., 13.]],\n",
       "\n",
       "         [[13., 19., 19., 13.],\n",
       "          [19., 28., 28., 19.],\n",
       "          [19., 28., 28., 19.],\n",
       "          [13., 19., 19., 13.]]]], grad_fn=<ViewBackward0>)"
      ]
     },
     "execution_count": 15,
     "metadata": {},
     "output_type": "execute_result"
    }
   ],
   "source": [
    "cus_conv_out"
   ]
  },
  {
   "cell_type": "code",
   "execution_count": 16,
   "id": "4159c482-d532-4a68-a9dd-d2f8e02733c0",
   "metadata": {},
   "outputs": [
    {
     "data": {
      "text/plain": [
       "tensor(128)"
      ]
     },
     "execution_count": 16,
     "metadata": {},
     "output_type": "execute_result"
    }
   ],
   "source": [
    "(conv_out == cus_conv_out).sum()"
   ]
  },
  {
   "cell_type": "code",
   "execution_count": null,
   "id": "97c7fa34-d440-40df-bb56-e81644001c26",
   "metadata": {},
   "outputs": [],
   "source": []
  },
  {
   "cell_type": "code",
   "execution_count": 17,
   "id": "9252daeb-811e-42de-8f0c-c6076bb99709",
   "metadata": {},
   "outputs": [
    {
     "name": "stdout",
     "output_type": "stream",
     "text": [
      "<class 'torch.Tensor'>\n"
     ]
    },
    {
     "data": {
      "text/plain": [
       "tensor([[[[13., 19., 19., 13.],\n",
       "          [19., 28., 28., 19.],\n",
       "          [19., 28., 28., 19.],\n",
       "          [13., 19., 19., 13.]],\n",
       "\n",
       "         [[13., 19., 19., 13.],\n",
       "          [19., 28., 28., 19.],\n",
       "          [19., 28., 28., 19.],\n",
       "          [13., 19., 19., 13.]],\n",
       "\n",
       "         [[13., 19., 19., 13.],\n",
       "          [19., 28., 28., 19.],\n",
       "          [19., 28., 28., 19.],\n",
       "          [13., 19., 19., 13.]],\n",
       "\n",
       "         [[13., 19., 19., 13.],\n",
       "          [19., 28., 28., 19.],\n",
       "          [19., 28., 28., 19.],\n",
       "          [13., 19., 19., 13.]]],\n",
       "\n",
       "\n",
       "        [[[13., 19., 19., 13.],\n",
       "          [19., 28., 28., 19.],\n",
       "          [19., 28., 28., 19.],\n",
       "          [13., 19., 19., 13.]],\n",
       "\n",
       "         [[13., 19., 19., 13.],\n",
       "          [19., 28., 28., 19.],\n",
       "          [19., 28., 28., 19.],\n",
       "          [13., 19., 19., 13.]],\n",
       "\n",
       "         [[13., 19., 19., 13.],\n",
       "          [19., 28., 28., 19.],\n",
       "          [19., 28., 28., 19.],\n",
       "          [13., 19., 19., 13.]],\n",
       "\n",
       "         [[13., 19., 19., 13.],\n",
       "          [19., 28., 28., 19.],\n",
       "          [19., 28., 28., 19.],\n",
       "          [13., 19., 19., 13.]]]], grad_fn=<ViewBackward0>)"
      ]
     },
     "execution_count": 17,
     "metadata": {},
     "output_type": "execute_result"
    }
   ],
   "source": [
    "unfold = nn.Unfold(kernel_size=(3, 3), padding=1)\n",
    "x1 = unfold(x)\n",
    "x1 = conv1.weight.view(4,-1) @ x1\n",
    "print(type(x1))\n",
    "# print(type(conv1.bias[None,:,None]))\n",
    "x1 += conv1.bias[None,:,None]\n",
    "x1 = x1.view(2,4,4,4)\n",
    "x1"
   ]
  },
  {
   "cell_type": "code",
   "execution_count": null,
   "id": "5d25f996-dd7a-48ef-be4f-3b3db66fdb1d",
   "metadata": {},
   "outputs": [],
   "source": []
  },
  {
   "cell_type": "code",
   "execution_count": 65,
   "id": "1c4174e2-a38c-4f45-8fa2-b94075bcec37",
   "metadata": {},
   "outputs": [
    {
     "data": {
      "text/plain": [
       "tensor([[[ 0.3379, -1.5741,  0.3580,  2.6894, -0.3282,  0.8057, -0.7230,\n",
       "           0.4657, -2.6248,  1.7149],\n",
       "         [ 0.3394, -0.0491, -1.4133, -3.0067,  0.2556,  0.4303,  0.3314,\n",
       "           0.3267, -0.3379, -1.4812],\n",
       "         [ 0.2844, -4.3359, -0.2769, -3.2841, -0.0730,  0.0537, -0.9952,\n",
       "           0.0076,  2.1398, -4.4930]],\n",
       "\n",
       "        [[-0.3693, -1.8441,  0.0707,  0.5148,  0.5557,  0.4578,  0.0133,\n",
       "          -0.0719, -0.0821, -0.0231],\n",
       "         [ 0.5681, -1.2018,  0.0698,  1.0384, -0.0440,  0.9311,  0.0981,\n",
       "          -0.0240,  0.0908,  0.6570],\n",
       "         [-1.3673, -2.6551, -0.0150,  0.6079, -0.2202, -0.0183, -0.0511,\n",
       "          -0.0457, -0.1287,  0.8067]]])"
      ]
     },
     "execution_count": 65,
     "metadata": {},
     "output_type": "execute_result"
    }
   ],
   "source": [
    "a = torch.randn(2,1,10)\n",
    "b = torch.randn(2,3,10)\n",
    "a*b"
   ]
  },
  {
   "cell_type": "code",
   "execution_count": null,
   "id": "710b0420-54ad-4279-b3d0-e76738392c8e",
   "metadata": {},
   "outputs": [],
   "source": []
  }
 ],
 "metadata": {
  "kernelspec": {
   "display_name": "pytorch",
   "language": "python",
   "name": "pytorch"
  },
  "language_info": {
   "codemirror_mode": {
    "name": "ipython",
    "version": 3
   },
   "file_extension": ".py",
   "mimetype": "text/x-python",
   "name": "python",
   "nbconvert_exporter": "python",
   "pygments_lexer": "ipython3",
   "version": "3.7.9"
  }
 },
 "nbformat": 4,
 "nbformat_minor": 5
}
