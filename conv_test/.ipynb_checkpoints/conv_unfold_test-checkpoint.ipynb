{
 "cells": [
  {
   "cell_type": "code",
   "execution_count": 1,
   "id": "f53fbee3-0058-4f25-a6c8-62f77ae7f0ee",
   "metadata": {},
   "outputs": [],
   "source": [
    "import torch\n",
    "import torch.nn as nn"
   ]
  },
  {
   "cell_type": "code",
   "execution_count": 2,
   "id": "13e043d4-cb4f-4494-a2ba-2f0cdbb5b31a",
   "metadata": {},
   "outputs": [
    {
     "data": {
      "text/plain": [
       "torch.Size([2, 3, 256, 256])"
      ]
     },
     "execution_count": 2,
     "metadata": {},
     "output_type": "execute_result"
    }
   ],
   "source": [
    "x = torch.randn(2,3,256,256)\n",
    "x.shape"
   ]
  },
  {
   "cell_type": "code",
   "execution_count": null,
   "id": "9172cc66-b68a-4400-a9ee-f9386570ab11",
   "metadata": {},
   "outputs": [],
   "source": []
  },
  {
   "cell_type": "code",
   "execution_count": null,
   "id": "59fe9171-f424-4e24-a88a-3273ff4590cd",
   "metadata": {},
   "outputs": [],
   "source": []
  },
  {
   "cell_type": "code",
   "execution_count": 3,
   "id": "ae6922b5-4e8f-48bb-a98b-abcf60d9205b",
   "metadata": {},
   "outputs": [
    {
     "data": {
      "text/plain": [
       "torch.Size([2, 64, 256, 256])"
      ]
     },
     "execution_count": 3,
     "metadata": {},
     "output_type": "execute_result"
    }
   ],
   "source": [
    "# using convoluiton\n",
    "conv1 = nn.Conv2d(3,64,(3,3),padding=1)\n",
    "conv_out = conv1(x)\n",
    "conv_out.shape"
   ]
  },
  {
   "cell_type": "code",
   "execution_count": 4,
   "id": "1e4c2ee5-2ea9-40b4-8650-137934c907ae",
   "metadata": {},
   "outputs": [
    {
     "data": {
      "text/plain": [
       "tensor([ 0.9934, -0.7470,  0.8652, -0.2561, -0.0733, -0.0649, -0.1315, -0.5771,\n",
       "         0.5091, -0.6565,  0.2543,  0.0959,  0.3899, -0.5072, -0.2760,  0.4311,\n",
       "         0.0121,  0.1052, -0.4226,  0.5460, -0.1658,  0.1134, -0.3817, -0.7907,\n",
       "        -0.3482, -0.9714, -0.5020,  0.2579, -0.1035,  0.3344, -0.0491,  0.0999,\n",
       "        -0.2533, -0.6829, -0.2403,  0.5698, -0.0260, -0.4746,  0.1561,  0.0846,\n",
       "        -0.4449,  0.3179, -0.0110,  0.0543,  0.2495, -0.3491, -0.5644,  0.0867,\n",
       "         0.2199,  0.0212,  0.3844, -0.6238, -0.1993,  0.2679, -0.3587,  0.4780,\n",
       "         0.6182, -0.2300,  0.1131,  0.0262, -0.0188,  0.1870,  0.5323, -0.6288],\n",
       "       grad_fn=<SelectBackward0>)"
      ]
     },
     "execution_count": 4,
     "metadata": {},
     "output_type": "execute_result"
    }
   ],
   "source": [
    "conv_out[0,:,0,0]"
   ]
  },
  {
   "cell_type": "code",
   "execution_count": null,
   "id": "a6e7ee3d-6202-4686-98cd-5b42f768e6c5",
   "metadata": {},
   "outputs": [],
   "source": []
  },
  {
   "cell_type": "code",
   "execution_count": 5,
   "id": "1e978766-aa96-4135-9019-9117a59717ba",
   "metadata": {},
   "outputs": [
    {
     "data": {
      "text/plain": [
       "Parameter containing:\n",
       "tensor([ 0.0057, -0.1921,  0.1483, -0.1638, -0.0737, -0.0349,  0.0408, -0.0590,\n",
       "        -0.0973, -0.1711,  0.0864, -0.0736,  0.0839, -0.1007, -0.1756,  0.1343,\n",
       "        -0.0688,  0.1895, -0.0666, -0.0338, -0.1310, -0.0391,  0.1538,  0.1003,\n",
       "        -0.1271, -0.1273, -0.1057, -0.1613, -0.0200, -0.0839,  0.0067, -0.0545,\n",
       "        -0.1790, -0.0043,  0.0375,  0.1163,  0.0640, -0.0451, -0.1744, -0.0004,\n",
       "        -0.1434,  0.1511,  0.0460,  0.1757, -0.1215,  0.0729, -0.1915, -0.1651,\n",
       "        -0.1621, -0.1607,  0.1029, -0.0157, -0.1331, -0.0162, -0.1803, -0.0557,\n",
       "         0.1425,  0.0537, -0.1235, -0.0179,  0.1844,  0.1159, -0.0842, -0.1492],\n",
       "       requires_grad=True)"
      ]
     },
     "execution_count": 5,
     "metadata": {},
     "output_type": "execute_result"
    }
   ],
   "source": [
    "conv1.bias"
   ]
  },
  {
   "cell_type": "code",
   "execution_count": null,
   "id": "62d17c59-d817-4705-98c9-0066f4e2c115",
   "metadata": {},
   "outputs": [],
   "source": []
  },
  {
   "cell_type": "code",
   "execution_count": null,
   "id": "2c989bac-7a02-4e07-999d-38b0ea45c5a9",
   "metadata": {},
   "outputs": [],
   "source": []
  },
  {
   "cell_type": "code",
   "execution_count": null,
   "id": "cbff400f-3bde-4c27-a275-a313f4e133e9",
   "metadata": {},
   "outputs": [],
   "source": []
  },
  {
   "cell_type": "code",
   "execution_count": 6,
   "id": "ae2ac198-38f0-4a33-9144-00b3eb1cd0a5",
   "metadata": {},
   "outputs": [],
   "source": [
    "# using unfold"
   ]
  },
  {
   "cell_type": "code",
   "execution_count": 7,
   "id": "f74de617-749f-4146-951c-b90b982515e9",
   "metadata": {},
   "outputs": [],
   "source": [
    "unfold = nn.Unfold(kernel_size=(3, 3), padding=1)"
   ]
  },
  {
   "cell_type": "code",
   "execution_count": 8,
   "id": "401247c1-109b-4e3f-ae61-18565d8257b8",
   "metadata": {},
   "outputs": [
    {
     "data": {
      "text/plain": [
       "torch.Size([2, 27, 65536])"
      ]
     },
     "execution_count": 8,
     "metadata": {},
     "output_type": "execute_result"
    }
   ],
   "source": [
    "x1 = unfold(x)\n",
    "x1.shape"
   ]
  },
  {
   "cell_type": "code",
   "execution_count": 9,
   "id": "17705be8-dbda-4258-b5c4-e88ddf17c6c5",
   "metadata": {},
   "outputs": [
    {
     "data": {
      "text/plain": [
       "torch.Size([64, 3, 3, 3])"
      ]
     },
     "execution_count": 9,
     "metadata": {},
     "output_type": "execute_result"
    }
   ],
   "source": [
    "conv1.weight.shape"
   ]
  },
  {
   "cell_type": "code",
   "execution_count": 10,
   "id": "8bbd34e9-2e01-45d9-9468-ad7b7c2d1242",
   "metadata": {},
   "outputs": [
    {
     "data": {
      "text/plain": [
       "tensor([[-0.1527, -0.0889, -0.1203,  ..., -0.0462, -0.1735, -0.1584],\n",
       "        [-0.1045, -0.0152, -0.0712,  ..., -0.0769,  0.0728,  0.0929],\n",
       "        [-0.1868,  0.0204, -0.0550,  ..., -0.1233, -0.1246, -0.0153],\n",
       "        ...,\n",
       "        [ 0.0803, -0.0100,  0.0515,  ..., -0.0960, -0.0334,  0.0634],\n",
       "        [ 0.1337, -0.1679, -0.0368,  ..., -0.0754, -0.0097, -0.1593],\n",
       "        [-0.1670, -0.0848, -0.0126,  ..., -0.0819,  0.1558, -0.0119]],\n",
       "       grad_fn=<ViewBackward0>)"
      ]
     },
     "execution_count": 10,
     "metadata": {},
     "output_type": "execute_result"
    }
   ],
   "source": [
    "conv1.weight.view(64,-1)"
   ]
  },
  {
   "cell_type": "code",
   "execution_count": 11,
   "id": "6c846394-b91d-42c0-b78d-24657af75976",
   "metadata": {},
   "outputs": [],
   "source": [
    "# unfold_out = x1.permute(0,2,1) @ conv1.weight.view(64,-1).transpose(0,1)\n",
    "# unfold_out.shape"
   ]
  },
  {
   "cell_type": "code",
   "execution_count": 12,
   "id": "a2777ef4-1b4d-4f9a-b62b-47e195ed0899",
   "metadata": {},
   "outputs": [],
   "source": [
    "# unfold_out = unfold_out.permute(0,2,1).view(2,64,256,256)\n",
    "# unfold_out.shape"
   ]
  },
  {
   "cell_type": "code",
   "execution_count": 13,
   "id": "7c6a234d-8294-4c2b-b220-748ce0c6d2d1",
   "metadata": {},
   "outputs": [],
   "source": [
    "# unfold_out = (unfold_out.permute(0,2,3,1) + conv1.bias).permute(0,3,1,2)\n",
    "# unfold_out[0,:,0,0]"
   ]
  },
  {
   "cell_type": "code",
   "execution_count": 14,
   "id": "e1ac565e-2214-4ff0-88ea-6c2f441994e7",
   "metadata": {},
   "outputs": [
    {
     "data": {
      "text/plain": [
       "tensor([ 0.9934, -0.7470,  0.8652, -0.2561, -0.0733, -0.0649, -0.1315, -0.5771,\n",
       "         0.5091, -0.6565,  0.2543,  0.0959,  0.3899, -0.5072, -0.2760,  0.4311,\n",
       "         0.0121,  0.1052, -0.4226,  0.5460, -0.1658,  0.1134, -0.3817, -0.7907,\n",
       "        -0.3482, -0.9714, -0.5020,  0.2579, -0.1035,  0.3344, -0.0491,  0.0999,\n",
       "        -0.2533, -0.6829, -0.2403,  0.5698, -0.0260, -0.4746,  0.1561,  0.0846,\n",
       "        -0.4449,  0.3179, -0.0110,  0.0543,  0.2495, -0.3491, -0.5644,  0.0867,\n",
       "         0.2199,  0.0212,  0.3844, -0.6238, -0.1993,  0.2679, -0.3587,  0.4780,\n",
       "         0.6182, -0.2300,  0.1131,  0.0262, -0.0188,  0.1870,  0.5323, -0.6288],\n",
       "       grad_fn=<SelectBackward0>)"
      ]
     },
     "execution_count": 14,
     "metadata": {},
     "output_type": "execute_result"
    }
   ],
   "source": [
    "conv_out[0,:,0,0]"
   ]
  },
  {
   "cell_type": "code",
   "execution_count": 15,
   "id": "0d357afe-619a-4c17-ac9a-40fc39fcfa5b",
   "metadata": {},
   "outputs": [],
   "source": [
    "unfold = nn.Unfold(kernel_size=(3, 3), padding=1)\n",
    "x1 = unfold(x)\n",
    "unfold_out = x1.permute(0,2,1) @ conv1.weight.view(64,-1).transpose(0,1)\n",
    "unfold_out = unfold_out.permute(0,2,1).view(2,64,256,256)\n",
    "unfold_out = (unfold_out.permute(0,2,3,1) + conv1.bias).permute(0,3,1,2)\n",
    "unfold_out[0,:,0,0]"
   ]
  },
  {
   "cell_type": "code",
   "execution_count": 16,
   "id": "e5682774-7ab2-4db0-bfe2-74b441f87383",
   "metadata": {},
   "outputs": [],
   "source": [
    "unfold = nn.Unfold(kernel_size=(3, 3), padding=1)\n",
    "x1 = unfold(x)\n",
    "unfold_out = x1.permute(0,2,1) @ conv1.weight.view(64,-1).transpose(0,1)\n",
    "# unfold_out = (unfold_out.permute(0,2,3,1) + conv1.bias).permute(0,3,1,2)\n",
    "unfold_out += conv1.bias\n",
    "unfold_out = unfold_out.permute(0,2,1).view(2,64,256,256)\n",
    "unfold_out[0,:,0,0]"
   ]
  },
  {
   "cell_type": "code",
   "execution_count": 17,
   "id": "428bae4c-e4cb-4f55-be58-132a0261ccb9",
   "metadata": {},
   "outputs": [
    {
     "data": {
      "text/plain": [
       "tensor([ 0.9934, -0.7470,  0.8652, -0.2561, -0.0733, -0.0649, -0.1315, -0.5771,\n",
       "         0.5091, -0.6565,  0.2543,  0.0959,  0.3899, -0.5072, -0.2760,  0.4311,\n",
       "         0.0121,  0.1052, -0.4226,  0.5460, -0.1658,  0.1134, -0.3817, -0.7907,\n",
       "        -0.3482, -0.9714, -0.5020,  0.2579, -0.1035,  0.3344, -0.0491,  0.0999,\n",
       "        -0.2533, -0.6829, -0.2403,  0.5698, -0.0260, -0.4746,  0.1561,  0.0846,\n",
       "        -0.4449,  0.3179, -0.0110,  0.0543,  0.2495, -0.3491, -0.5644,  0.0867,\n",
       "         0.2199,  0.0212,  0.3844, -0.6238, -0.1993,  0.2679, -0.3587,  0.4780,\n",
       "         0.6182, -0.2300,  0.1131,  0.0262, -0.0188,  0.1870,  0.5323, -0.6288],\n",
       "       grad_fn=<SelectBackward0>)"
      ]
     },
     "execution_count": 17,
     "metadata": {},
     "output_type": "execute_result"
    }
   ],
   "source": [
    "unfold = nn.Unfold(kernel_size=(3, 3), padding=1)\n",
    "x1 = unfold(x)\n",
    "unfold_out = conv1.weight.view(64,-1) @ x1\n",
    "unfold_out += conv1.bias[None,:,None]\n",
    "unfold_out = unfold_out.view(2,64,256,256)\n",
    "unfold_out[0,:,0,0]"
   ]
  },
  {
   "cell_type": "code",
   "execution_count": null,
   "id": "1fa018c4-78fa-44e7-9526-1ec22f450c92",
   "metadata": {},
   "outputs": [],
   "source": []
  },
  {
   "cell_type": "code",
   "execution_count": null,
   "id": "4780aa97-3a05-436b-904b-42e31dc80865",
   "metadata": {},
   "outputs": [],
   "source": []
  },
  {
   "cell_type": "code",
   "execution_count": null,
   "id": "c36a4729-d94f-43a9-b901-814cafe423dd",
   "metadata": {},
   "outputs": [],
   "source": []
  },
  {
   "cell_type": "code",
   "execution_count": null,
   "id": "0147cee4-124f-4658-a32e-653dde9163a7",
   "metadata": {},
   "outputs": [],
   "source": []
  },
  {
   "cell_type": "code",
   "execution_count": null,
   "id": "e10a5ce6-a217-44fb-b271-928b7f4b63a5",
   "metadata": {},
   "outputs": [],
   "source": []
  },
  {
   "cell_type": "code",
   "execution_count": 18,
   "id": "ee731013-7850-4ebb-9215-00b9bae90d19",
   "metadata": {},
   "outputs": [
    {
     "data": {
      "text/plain": [
       "torch.Size([1, 64])"
      ]
     },
     "execution_count": 18,
     "metadata": {},
     "output_type": "execute_result"
    }
   ],
   "source": [
    "conv1.bias.unsqueeze(dim=0).shape"
   ]
  },
  {
   "cell_type": "code",
   "execution_count": 19,
   "id": "ed476080-3f15-4556-8046-78ca04284fd6",
   "metadata": {},
   "outputs": [
    {
     "data": {
      "text/plain": [
       "torch.Size([1, 64, 1])"
      ]
     },
     "execution_count": 19,
     "metadata": {},
     "output_type": "execute_result"
    }
   ],
   "source": [
    "conv1.bias[None,:,None].shape"
   ]
  },
  {
   "cell_type": "code",
   "execution_count": 20,
   "id": "59b37d6a-1f05-4052-bc3e-a95abd1e1b68",
   "metadata": {},
   "outputs": [
    {
     "ename": "SyntaxError",
     "evalue": "invalid syntax (3942160263.py, line 1)",
     "output_type": "error",
     "traceback": [
      "\u001b[0;36m  File \u001b[0;32m\"/tmp/ipykernel_14512/3942160263.py\"\u001b[0;36m, line \u001b[0;32m1\u001b[0m\n\u001b[0;31m    self.image_mean[:, None, None])\u001b[0m\n\u001b[0m                                  ^\u001b[0m\n\u001b[0;31mSyntaxError\u001b[0m\u001b[0;31m:\u001b[0m invalid syntax\n"
     ]
    }
   ],
   "source": [
    "self.image_mean[:, None, None])"
   ]
  }
 ],
 "metadata": {
  "kernelspec": {
   "display_name": "pytorch",
   "language": "python",
   "name": "pytorch"
  },
  "language_info": {
   "codemirror_mode": {
    "name": "ipython",
    "version": 3
   },
   "file_extension": ".py",
   "mimetype": "text/x-python",
   "name": "python",
   "nbconvert_exporter": "python",
   "pygments_lexer": "ipython3",
   "version": "3.7.9"
  }
 },
 "nbformat": 4,
 "nbformat_minor": 5
}
